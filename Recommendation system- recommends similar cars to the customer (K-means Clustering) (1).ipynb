{
 "cells": [
  {
   "cell_type": "markdown",
   "id": "44a913b4",
   "metadata": {},
   "source": [
    "# Recommendation system: recommends similar cars to the customer \n"
   ]
  },
  {
   "cell_type": "code",
   "execution_count": 51,
   "id": "4658cce2",
   "metadata": {},
   "outputs": [],
   "source": [
    "import pandas as pd\n",
    "import matplotlib.pyplot as plt\n",
    "from warnings import filterwarnings\n",
    "filterwarnings(\"ignore\")"
   ]
  },
  {
   "cell_type": "markdown",
   "id": "684db528",
   "metadata": {},
   "source": [
    "## Data Ingestion"
   ]
  },
  {
   "cell_type": "code",
   "execution_count": 52,
   "id": "5ccec45e",
   "metadata": {},
   "outputs": [],
   "source": [
    "B=pd.read_csv(\"D:Hitesh/dataset/Cars93.csv\")"
   ]
  },
  {
   "cell_type": "code",
   "execution_count": 53,
   "id": "8fca6a81",
   "metadata": {},
   "outputs": [
    {
     "data": {
      "text/html": [
       "<div>\n",
       "<style scoped>\n",
       "    .dataframe tbody tr th:only-of-type {\n",
       "        vertical-align: middle;\n",
       "    }\n",
       "\n",
       "    .dataframe tbody tr th {\n",
       "        vertical-align: top;\n",
       "    }\n",
       "\n",
       "    .dataframe thead th {\n",
       "        text-align: right;\n",
       "    }\n",
       "</style>\n",
       "<table border=\"1\" class=\"dataframe\">\n",
       "  <thead>\n",
       "    <tr style=\"text-align: right;\">\n",
       "      <th></th>\n",
       "      <th>id</th>\n",
       "      <th>Manufacturer</th>\n",
       "      <th>Model</th>\n",
       "      <th>Type</th>\n",
       "      <th>MinPrice</th>\n",
       "      <th>Price</th>\n",
       "      <th>MaxPrice</th>\n",
       "      <th>MPGcity</th>\n",
       "      <th>MPGhighway</th>\n",
       "      <th>AirBags</th>\n",
       "      <th>...</th>\n",
       "      <th>Passengers</th>\n",
       "      <th>Length</th>\n",
       "      <th>Wheelbase</th>\n",
       "      <th>Width</th>\n",
       "      <th>TurnCircle</th>\n",
       "      <th>RearseatRoom</th>\n",
       "      <th>LuggageRoom</th>\n",
       "      <th>Weight</th>\n",
       "      <th>Origin</th>\n",
       "      <th>Make</th>\n",
       "    </tr>\n",
       "  </thead>\n",
       "  <tbody>\n",
       "    <tr>\n",
       "      <th>0</th>\n",
       "      <td>1</td>\n",
       "      <td>Acura</td>\n",
       "      <td>Integra</td>\n",
       "      <td>Small</td>\n",
       "      <td>12.9</td>\n",
       "      <td>15.9</td>\n",
       "      <td>18.8</td>\n",
       "      <td>25</td>\n",
       "      <td>31</td>\n",
       "      <td>None</td>\n",
       "      <td>...</td>\n",
       "      <td>5</td>\n",
       "      <td>177</td>\n",
       "      <td>102</td>\n",
       "      <td>68</td>\n",
       "      <td>37</td>\n",
       "      <td>26.5</td>\n",
       "      <td>11.0</td>\n",
       "      <td>2705</td>\n",
       "      <td>non-USA</td>\n",
       "      <td>Acura Integra</td>\n",
       "    </tr>\n",
       "    <tr>\n",
       "      <th>1</th>\n",
       "      <td>2</td>\n",
       "      <td>Acura</td>\n",
       "      <td>Legend</td>\n",
       "      <td>Midsize</td>\n",
       "      <td>29.2</td>\n",
       "      <td>33.9</td>\n",
       "      <td>38.7</td>\n",
       "      <td>18</td>\n",
       "      <td>25</td>\n",
       "      <td>Driver &amp; Passenger</td>\n",
       "      <td>...</td>\n",
       "      <td>5</td>\n",
       "      <td>195</td>\n",
       "      <td>115</td>\n",
       "      <td>71</td>\n",
       "      <td>38</td>\n",
       "      <td>30.0</td>\n",
       "      <td>15.0</td>\n",
       "      <td>3560</td>\n",
       "      <td>non-USA</td>\n",
       "      <td>Acura Legend</td>\n",
       "    </tr>\n",
       "    <tr>\n",
       "      <th>2</th>\n",
       "      <td>3</td>\n",
       "      <td>Audi</td>\n",
       "      <td>90</td>\n",
       "      <td>Compact</td>\n",
       "      <td>25.9</td>\n",
       "      <td>29.1</td>\n",
       "      <td>32.3</td>\n",
       "      <td>20</td>\n",
       "      <td>26</td>\n",
       "      <td>Driver only</td>\n",
       "      <td>...</td>\n",
       "      <td>5</td>\n",
       "      <td>180</td>\n",
       "      <td>102</td>\n",
       "      <td>67</td>\n",
       "      <td>37</td>\n",
       "      <td>28.0</td>\n",
       "      <td>14.0</td>\n",
       "      <td>3375</td>\n",
       "      <td>non-USA</td>\n",
       "      <td>Audi 90</td>\n",
       "    </tr>\n",
       "    <tr>\n",
       "      <th>3</th>\n",
       "      <td>4</td>\n",
       "      <td>Audi</td>\n",
       "      <td>100</td>\n",
       "      <td>Midsize</td>\n",
       "      <td>30.8</td>\n",
       "      <td>37.7</td>\n",
       "      <td>44.6</td>\n",
       "      <td>19</td>\n",
       "      <td>26</td>\n",
       "      <td>NaN</td>\n",
       "      <td>...</td>\n",
       "      <td>6</td>\n",
       "      <td>193</td>\n",
       "      <td>106</td>\n",
       "      <td>70</td>\n",
       "      <td>37</td>\n",
       "      <td>31.0</td>\n",
       "      <td>17.0</td>\n",
       "      <td>3405</td>\n",
       "      <td>non-USA</td>\n",
       "      <td>Audi 100</td>\n",
       "    </tr>\n",
       "    <tr>\n",
       "      <th>4</th>\n",
       "      <td>5</td>\n",
       "      <td>BMW</td>\n",
       "      <td>535i</td>\n",
       "      <td>Midsize</td>\n",
       "      <td>23.7</td>\n",
       "      <td>30.0</td>\n",
       "      <td>36.2</td>\n",
       "      <td>22</td>\n",
       "      <td>30</td>\n",
       "      <td>Driver only</td>\n",
       "      <td>...</td>\n",
       "      <td>4</td>\n",
       "      <td>186</td>\n",
       "      <td>109</td>\n",
       "      <td>69</td>\n",
       "      <td>39</td>\n",
       "      <td>27.0</td>\n",
       "      <td>13.0</td>\n",
       "      <td>3640</td>\n",
       "      <td>non-USA</td>\n",
       "      <td>BMW 535i</td>\n",
       "    </tr>\n",
       "  </tbody>\n",
       "</table>\n",
       "<p>5 rows × 28 columns</p>\n",
       "</div>"
      ],
      "text/plain": [
       "   id Manufacturer    Model     Type  MinPrice  Price  MaxPrice  MPGcity  \\\n",
       "0   1        Acura  Integra    Small      12.9   15.9      18.8       25   \n",
       "1   2        Acura   Legend  Midsize      29.2   33.9      38.7       18   \n",
       "2   3         Audi       90  Compact      25.9   29.1      32.3       20   \n",
       "3   4         Audi      100  Midsize      30.8   37.7      44.6       19   \n",
       "4   5          BMW     535i  Midsize      23.7   30.0      36.2       22   \n",
       "\n",
       "   MPGhighway             AirBags  ... Passengers Length  Wheelbase  Width  \\\n",
       "0          31                None  ...          5    177        102     68   \n",
       "1          25  Driver & Passenger  ...          5    195        115     71   \n",
       "2          26         Driver only  ...          5    180        102     67   \n",
       "3          26                 NaN  ...          6    193        106     70   \n",
       "4          30         Driver only  ...          4    186        109     69   \n",
       "\n",
       "   TurnCircle  RearseatRoom LuggageRoom  Weight   Origin           Make  \n",
       "0          37          26.5        11.0    2705  non-USA  Acura Integra  \n",
       "1          38          30.0        15.0    3560  non-USA   Acura Legend  \n",
       "2          37          28.0        14.0    3375  non-USA        Audi 90  \n",
       "3          37          31.0        17.0    3405  non-USA       Audi 100  \n",
       "4          39          27.0        13.0    3640  non-USA       BMW 535i  \n",
       "\n",
       "[5 rows x 28 columns]"
      ]
     },
     "execution_count": 53,
     "metadata": {},
     "output_type": "execute_result"
    }
   ],
   "source": [
    "B.head()"
   ]
  },
  {
   "cell_type": "markdown",
   "id": "2aec2991",
   "metadata": {},
   "source": [
    "## Missing Data Treatment"
   ]
  },
  {
   "cell_type": "code",
   "execution_count": 54,
   "id": "2e2b055d",
   "metadata": {},
   "outputs": [],
   "source": [
    "from hiteshmodule import MDT"
   ]
  },
  {
   "cell_type": "code",
   "execution_count": 55,
   "id": "fddf1cf4",
   "metadata": {},
   "outputs": [
    {
     "data": {
      "text/plain": [
       "id                    0\n",
       "Manufacturer          0\n",
       "Model                 0\n",
       "Type                  0\n",
       "MinPrice              0\n",
       "Price                 0\n",
       "MaxPrice              0\n",
       "MPGcity               0\n",
       "MPGhighway            0\n",
       "AirBags               4\n",
       "DriveTrain            0\n",
       "Cylinders             0\n",
       "EngineSize            0\n",
       "Horsepower            0\n",
       "RPM                   0\n",
       "Rev_per_mile          0\n",
       "Man_trans_avail       0\n",
       "Fueltank_capacity     0\n",
       "Passengers            0\n",
       "Length                0\n",
       "Wheelbase             0\n",
       "Width                 0\n",
       "TurnCircle            0\n",
       "RearseatRoom          2\n",
       "LuggageRoom          11\n",
       "Weight                0\n",
       "Origin                0\n",
       "Make                  0\n",
       "dtype: int64"
      ]
     },
     "execution_count": 55,
     "metadata": {},
     "output_type": "execute_result"
    }
   ],
   "source": [
    "B.isna().sum()"
   ]
  },
  {
   "cell_type": "code",
   "execution_count": 56,
   "id": "c68f609b",
   "metadata": {},
   "outputs": [
    {
     "name": "stdout",
     "output_type": "stream",
     "text": [
      "missing data is replaced with mean value of column for continuous data and with column mode for categorical data\n"
     ]
    },
    {
     "data": {
      "text/html": [
       "<div>\n",
       "<style scoped>\n",
       "    .dataframe tbody tr th:only-of-type {\n",
       "        vertical-align: middle;\n",
       "    }\n",
       "\n",
       "    .dataframe tbody tr th {\n",
       "        vertical-align: top;\n",
       "    }\n",
       "\n",
       "    .dataframe thead th {\n",
       "        text-align: right;\n",
       "    }\n",
       "</style>\n",
       "<table border=\"1\" class=\"dataframe\">\n",
       "  <thead>\n",
       "    <tr style=\"text-align: right;\">\n",
       "      <th></th>\n",
       "      <th>missing</th>\n",
       "    </tr>\n",
       "  </thead>\n",
       "  <tbody>\n",
       "    <tr>\n",
       "      <th>id</th>\n",
       "      <td>0</td>\n",
       "    </tr>\n",
       "    <tr>\n",
       "      <th>Manufacturer</th>\n",
       "      <td>0</td>\n",
       "    </tr>\n",
       "    <tr>\n",
       "      <th>Model</th>\n",
       "      <td>0</td>\n",
       "    </tr>\n",
       "    <tr>\n",
       "      <th>Type</th>\n",
       "      <td>0</td>\n",
       "    </tr>\n",
       "    <tr>\n",
       "      <th>MinPrice</th>\n",
       "      <td>0</td>\n",
       "    </tr>\n",
       "    <tr>\n",
       "      <th>Price</th>\n",
       "      <td>0</td>\n",
       "    </tr>\n",
       "    <tr>\n",
       "      <th>MaxPrice</th>\n",
       "      <td>0</td>\n",
       "    </tr>\n",
       "    <tr>\n",
       "      <th>MPGcity</th>\n",
       "      <td>0</td>\n",
       "    </tr>\n",
       "    <tr>\n",
       "      <th>MPGhighway</th>\n",
       "      <td>0</td>\n",
       "    </tr>\n",
       "    <tr>\n",
       "      <th>AirBags</th>\n",
       "      <td>0</td>\n",
       "    </tr>\n",
       "    <tr>\n",
       "      <th>DriveTrain</th>\n",
       "      <td>0</td>\n",
       "    </tr>\n",
       "    <tr>\n",
       "      <th>Cylinders</th>\n",
       "      <td>0</td>\n",
       "    </tr>\n",
       "    <tr>\n",
       "      <th>EngineSize</th>\n",
       "      <td>0</td>\n",
       "    </tr>\n",
       "    <tr>\n",
       "      <th>Horsepower</th>\n",
       "      <td>0</td>\n",
       "    </tr>\n",
       "    <tr>\n",
       "      <th>RPM</th>\n",
       "      <td>0</td>\n",
       "    </tr>\n",
       "    <tr>\n",
       "      <th>Rev_per_mile</th>\n",
       "      <td>0</td>\n",
       "    </tr>\n",
       "    <tr>\n",
       "      <th>Man_trans_avail</th>\n",
       "      <td>0</td>\n",
       "    </tr>\n",
       "    <tr>\n",
       "      <th>Fueltank_capacity</th>\n",
       "      <td>0</td>\n",
       "    </tr>\n",
       "    <tr>\n",
       "      <th>Passengers</th>\n",
       "      <td>0</td>\n",
       "    </tr>\n",
       "    <tr>\n",
       "      <th>Length</th>\n",
       "      <td>0</td>\n",
       "    </tr>\n",
       "    <tr>\n",
       "      <th>Wheelbase</th>\n",
       "      <td>0</td>\n",
       "    </tr>\n",
       "    <tr>\n",
       "      <th>Width</th>\n",
       "      <td>0</td>\n",
       "    </tr>\n",
       "    <tr>\n",
       "      <th>TurnCircle</th>\n",
       "      <td>0</td>\n",
       "    </tr>\n",
       "    <tr>\n",
       "      <th>RearseatRoom</th>\n",
       "      <td>0</td>\n",
       "    </tr>\n",
       "    <tr>\n",
       "      <th>LuggageRoom</th>\n",
       "      <td>0</td>\n",
       "    </tr>\n",
       "    <tr>\n",
       "      <th>Weight</th>\n",
       "      <td>0</td>\n",
       "    </tr>\n",
       "    <tr>\n",
       "      <th>Origin</th>\n",
       "      <td>0</td>\n",
       "    </tr>\n",
       "    <tr>\n",
       "      <th>Make</th>\n",
       "      <td>0</td>\n",
       "    </tr>\n",
       "  </tbody>\n",
       "</table>\n",
       "</div>"
      ],
      "text/plain": [
       "                   missing\n",
       "id                       0\n",
       "Manufacturer             0\n",
       "Model                    0\n",
       "Type                     0\n",
       "MinPrice                 0\n",
       "Price                    0\n",
       "MaxPrice                 0\n",
       "MPGcity                  0\n",
       "MPGhighway               0\n",
       "AirBags                  0\n",
       "DriveTrain               0\n",
       "Cylinders                0\n",
       "EngineSize               0\n",
       "Horsepower               0\n",
       "RPM                      0\n",
       "Rev_per_mile             0\n",
       "Man_trans_avail          0\n",
       "Fueltank_capacity        0\n",
       "Passengers               0\n",
       "Length                   0\n",
       "Wheelbase                0\n",
       "Width                    0\n",
       "TurnCircle               0\n",
       "RearseatRoom             0\n",
       "LuggageRoom              0\n",
       "Weight                   0\n",
       "Origin                   0\n",
       "Make                     0"
      ]
     },
     "execution_count": 56,
     "metadata": {},
     "output_type": "execute_result"
    }
   ],
   "source": [
    "MDT(B)"
   ]
  },
  {
   "cell_type": "code",
   "execution_count": null,
   "id": "907702d0",
   "metadata": {},
   "outputs": [],
   "source": []
  },
  {
   "cell_type": "markdown",
   "id": "231ad703",
   "metadata": {},
   "source": [
    "## Variable selection (based on which variable clusters are to be formed)"
   ]
  },
  {
   "cell_type": "code",
   "execution_count": 57,
   "id": "2f39e329",
   "metadata": {},
   "outputs": [],
   "source": [
    "A=B[[\"Price\",\"MPGcity\"]]"
   ]
  },
  {
   "cell_type": "markdown",
   "id": "4062bc7b",
   "metadata": {},
   "source": [
    "here we are selecting Price and Mileage of the car to form the clusters"
   ]
  },
  {
   "cell_type": "code",
   "execution_count": null,
   "id": "6c32bc34",
   "metadata": {},
   "outputs": [],
   "source": []
  },
  {
   "cell_type": "markdown",
   "id": "7e544348",
   "metadata": {},
   "source": [
    "## Preprocessing"
   ]
  },
  {
   "cell_type": "code",
   "execution_count": 58,
   "id": "7081304e",
   "metadata": {},
   "outputs": [],
   "source": [
    "from sklearn.preprocessing import MinMaxScaler\n",
    "mm=MinMaxScaler()"
   ]
  },
  {
   "cell_type": "code",
   "execution_count": 63,
   "id": "bd39b523",
   "metadata": {},
   "outputs": [],
   "source": [
    "x=pd.DataFrame(mm.fit_transform(A),columns=A.columns)"
   ]
  },
  {
   "cell_type": "code",
   "execution_count": 64,
   "id": "a0bd3b87",
   "metadata": {},
   "outputs": [
    {
     "data": {
      "text/html": [
       "<div>\n",
       "<style scoped>\n",
       "    .dataframe tbody tr th:only-of-type {\n",
       "        vertical-align: middle;\n",
       "    }\n",
       "\n",
       "    .dataframe tbody tr th {\n",
       "        vertical-align: top;\n",
       "    }\n",
       "\n",
       "    .dataframe thead th {\n",
       "        text-align: right;\n",
       "    }\n",
       "</style>\n",
       "<table border=\"1\" class=\"dataframe\">\n",
       "  <thead>\n",
       "    <tr style=\"text-align: right;\">\n",
       "      <th></th>\n",
       "      <th>Price</th>\n",
       "      <th>MPGcity</th>\n",
       "    </tr>\n",
       "  </thead>\n",
       "  <tbody>\n",
       "    <tr>\n",
       "      <th>0</th>\n",
       "      <td>0.155963</td>\n",
       "      <td>0.322581</td>\n",
       "    </tr>\n",
       "    <tr>\n",
       "      <th>1</th>\n",
       "      <td>0.486239</td>\n",
       "      <td>0.096774</td>\n",
       "    </tr>\n",
       "    <tr>\n",
       "      <th>2</th>\n",
       "      <td>0.398165</td>\n",
       "      <td>0.161290</td>\n",
       "    </tr>\n",
       "    <tr>\n",
       "      <th>3</th>\n",
       "      <td>0.555963</td>\n",
       "      <td>0.129032</td>\n",
       "    </tr>\n",
       "    <tr>\n",
       "      <th>4</th>\n",
       "      <td>0.414679</td>\n",
       "      <td>0.225806</td>\n",
       "    </tr>\n",
       "    <tr>\n",
       "      <th>...</th>\n",
       "      <td>...</td>\n",
       "      <td>...</td>\n",
       "    </tr>\n",
       "    <tr>\n",
       "      <th>88</th>\n",
       "      <td>0.225688</td>\n",
       "      <td>0.064516</td>\n",
       "    </tr>\n",
       "    <tr>\n",
       "      <th>89</th>\n",
       "      <td>0.231193</td>\n",
       "      <td>0.193548</td>\n",
       "    </tr>\n",
       "    <tr>\n",
       "      <th>90</th>\n",
       "      <td>0.291743</td>\n",
       "      <td>0.096774</td>\n",
       "    </tr>\n",
       "    <tr>\n",
       "      <th>91</th>\n",
       "      <td>0.280734</td>\n",
       "      <td>0.193548</td>\n",
       "    </tr>\n",
       "    <tr>\n",
       "      <th>92</th>\n",
       "      <td>0.354128</td>\n",
       "      <td>0.161290</td>\n",
       "    </tr>\n",
       "  </tbody>\n",
       "</table>\n",
       "<p>93 rows × 2 columns</p>\n",
       "</div>"
      ],
      "text/plain": [
       "       Price   MPGcity\n",
       "0   0.155963  0.322581\n",
       "1   0.486239  0.096774\n",
       "2   0.398165  0.161290\n",
       "3   0.555963  0.129032\n",
       "4   0.414679  0.225806\n",
       "..       ...       ...\n",
       "88  0.225688  0.064516\n",
       "89  0.231193  0.193548\n",
       "90  0.291743  0.096774\n",
       "91  0.280734  0.193548\n",
       "92  0.354128  0.161290\n",
       "\n",
       "[93 rows x 2 columns]"
      ]
     },
     "execution_count": 64,
     "metadata": {},
     "output_type": "execute_result"
    }
   ],
   "source": [
    "x"
   ]
  },
  {
   "cell_type": "code",
   "execution_count": null,
   "id": "a8787aed",
   "metadata": {},
   "outputs": [],
   "source": []
  },
  {
   "cell_type": "markdown",
   "id": "adb8f946",
   "metadata": {},
   "source": [
    "## Elbow Curve\n"
   ]
  },
  {
   "cell_type": "code",
   "execution_count": 65,
   "id": "9761eaae",
   "metadata": {},
   "outputs": [],
   "source": [
    "wcss=[]\n",
    "k=range(1,30,1)\n",
    "for i in k:\n",
    "    km=KMeans(n_clusters=i)\n",
    "    m1=km.fit(x)\n",
    "    wcss.append(m1.inertia_)"
   ]
  },
  {
   "cell_type": "code",
   "execution_count": 66,
   "id": "f24e2292",
   "metadata": {},
   "outputs": [
    {
     "data": {
      "text/plain": [
       "[<matplotlib.lines.Line2D at 0x188d4bd6770>]"
      ]
     },
     "execution_count": 66,
     "metadata": {},
     "output_type": "execute_result"
    },
    {
     "data": {
      "image/png": "[encoded data removed]",
      "text/plain": [
       "<Figure size 640x480 with 1 Axes>"
      ]
     },
     "metadata": {},
     "output_type": "display_data"
    }
   ],
   "source": [
    "plt.scatter(k,wcss)\n",
    "plt.plot(k,wcss,\"red\")\n",
    "#plt.xticks(range(1,30,1))"
   ]
  },
  {
   "cell_type": "markdown",
   "id": "88fd5487",
   "metadata": {},
   "source": [
    "### From elbow curve we can see that number of clusters that are to be created are 4"
   ]
  },
  {
   "cell_type": "code",
   "execution_count": null,
   "id": "770b8fb2",
   "metadata": {},
   "outputs": [],
   "source": []
  },
  {
   "cell_type": "markdown",
   "id": "efd07b22",
   "metadata": {},
   "source": [
    "## K-Means Clustering "
   ]
  },
  {
   "cell_type": "code",
   "execution_count": 67,
   "id": "8f266b2e",
   "metadata": {},
   "outputs": [],
   "source": [
    "from sklearn.cluster import KMeans\n",
    "km=KMeans(n_clusters=4,random_state=31)\n",
    "model=km.fit(x)\n",
    "m=model.labels_"
   ]
  },
  {
   "cell_type": "code",
   "execution_count": 68,
   "id": "e9768113",
   "metadata": {},
   "outputs": [
    {
     "data": {
      "text/plain": [
       "array([0, 3, 2, 3, 2, 0, 2, 2, 2, 3, 3, 0, 0, 2, 0, 2, 2, 2, 3, 2, 0, 2,\n",
       "       1, 0, 0, 2, 0, 2, 1, 2, 1, 0, 0, 0, 0, 2, 2, 2, 1, 1, 0, 1, 0, 1,\n",
       "       0, 0, 0, 3, 2, 3, 3, 3, 1, 1, 0, 2, 3, 3, 3, 0, 2, 1, 2, 1, 0, 2,\n",
       "       2, 0, 0, 2, 2, 0, 1, 0, 2, 2, 2, 2, 1, 1, 0, 0, 1, 1, 0, 0, 2, 0,\n",
       "       2, 2, 2, 2, 2])"
      ]
     },
     "execution_count": 68,
     "metadata": {},
     "output_type": "execute_result"
    }
   ],
   "source": [
    "m"
   ]
  },
  {
   "cell_type": "code",
   "execution_count": 69,
   "id": "37e8f32c",
   "metadata": {},
   "outputs": [],
   "source": [
    "w=pd.DataFrame(A)"
   ]
  },
  {
   "cell_type": "code",
   "execution_count": 70,
   "id": "492775e2",
   "metadata": {},
   "outputs": [
    {
     "data": {
      "text/html": [
       "<div>\n",
       "<style scoped>\n",
       "    .dataframe tbody tr th:only-of-type {\n",
       "        vertical-align: middle;\n",
       "    }\n",
       "\n",
       "    .dataframe tbody tr th {\n",
       "        vertical-align: top;\n",
       "    }\n",
       "\n",
       "    .dataframe thead th {\n",
       "        text-align: right;\n",
       "    }\n",
       "</style>\n",
       "<table border=\"1\" class=\"dataframe\">\n",
       "  <thead>\n",
       "    <tr style=\"text-align: right;\">\n",
       "      <th></th>\n",
       "      <th>Price</th>\n",
       "      <th>MPGcity</th>\n",
       "    </tr>\n",
       "  </thead>\n",
       "  <tbody>\n",
       "    <tr>\n",
       "      <th>0</th>\n",
       "      <td>15.9</td>\n",
       "      <td>25</td>\n",
       "    </tr>\n",
       "    <tr>\n",
       "      <th>1</th>\n",
       "      <td>33.9</td>\n",
       "      <td>18</td>\n",
       "    </tr>\n",
       "    <tr>\n",
       "      <th>2</th>\n",
       "      <td>29.1</td>\n",
       "      <td>20</td>\n",
       "    </tr>\n",
       "    <tr>\n",
       "      <th>3</th>\n",
       "      <td>37.7</td>\n",
       "      <td>19</td>\n",
       "    </tr>\n",
       "    <tr>\n",
       "      <th>4</th>\n",
       "      <td>30.0</td>\n",
       "      <td>22</td>\n",
       "    </tr>\n",
       "    <tr>\n",
       "      <th>...</th>\n",
       "      <td>...</td>\n",
       "      <td>...</td>\n",
       "    </tr>\n",
       "    <tr>\n",
       "      <th>88</th>\n",
       "      <td>19.7</td>\n",
       "      <td>17</td>\n",
       "    </tr>\n",
       "    <tr>\n",
       "      <th>89</th>\n",
       "      <td>20.0</td>\n",
       "      <td>21</td>\n",
       "    </tr>\n",
       "    <tr>\n",
       "      <th>90</th>\n",
       "      <td>23.3</td>\n",
       "      <td>18</td>\n",
       "    </tr>\n",
       "    <tr>\n",
       "      <th>91</th>\n",
       "      <td>22.7</td>\n",
       "      <td>21</td>\n",
       "    </tr>\n",
       "    <tr>\n",
       "      <th>92</th>\n",
       "      <td>26.7</td>\n",
       "      <td>20</td>\n",
       "    </tr>\n",
       "  </tbody>\n",
       "</table>\n",
       "<p>93 rows × 2 columns</p>\n",
       "</div>"
      ],
      "text/plain": [
       "    Price  MPGcity\n",
       "0    15.9       25\n",
       "1    33.9       18\n",
       "2    29.1       20\n",
       "3    37.7       19\n",
       "4    30.0       22\n",
       "..    ...      ...\n",
       "88   19.7       17\n",
       "89   20.0       21\n",
       "90   23.3       18\n",
       "91   22.7       21\n",
       "92   26.7       20\n",
       "\n",
       "[93 rows x 2 columns]"
      ]
     },
     "execution_count": 70,
     "metadata": {},
     "output_type": "execute_result"
    }
   ],
   "source": [
    "w"
   ]
  },
  {
   "cell_type": "code",
   "execution_count": 71,
   "id": "fefce73f",
   "metadata": {},
   "outputs": [],
   "source": [
    "w[\"cars\"]=B.Make"
   ]
  },
  {
   "cell_type": "code",
   "execution_count": 72,
   "id": "018efedd",
   "metadata": {},
   "outputs": [],
   "source": [
    "w[\"clusters\"]=m"
   ]
  },
  {
   "cell_type": "code",
   "execution_count": 73,
   "id": "c4cd656a",
   "metadata": {},
   "outputs": [
    {
     "data": {
      "text/html": [
       "<div>\n",
       "<style scoped>\n",
       "    .dataframe tbody tr th:only-of-type {\n",
       "        vertical-align: middle;\n",
       "    }\n",
       "\n",
       "    .dataframe tbody tr th {\n",
       "        vertical-align: top;\n",
       "    }\n",
       "\n",
       "    .dataframe thead th {\n",
       "        text-align: right;\n",
       "    }\n",
       "</style>\n",
       "<table border=\"1\" class=\"dataframe\">\n",
       "  <thead>\n",
       "    <tr style=\"text-align: right;\">\n",
       "      <th></th>\n",
       "      <th>Price</th>\n",
       "      <th>MPGcity</th>\n",
       "      <th>cars</th>\n",
       "      <th>clusters</th>\n",
       "    </tr>\n",
       "  </thead>\n",
       "  <tbody>\n",
       "    <tr>\n",
       "      <th>0</th>\n",
       "      <td>15.9</td>\n",
       "      <td>25</td>\n",
       "      <td>Acura Integra</td>\n",
       "      <td>0</td>\n",
       "    </tr>\n",
       "    <tr>\n",
       "      <th>1</th>\n",
       "      <td>33.9</td>\n",
       "      <td>18</td>\n",
       "      <td>Acura Legend</td>\n",
       "      <td>3</td>\n",
       "    </tr>\n",
       "    <tr>\n",
       "      <th>2</th>\n",
       "      <td>29.1</td>\n",
       "      <td>20</td>\n",
       "      <td>Audi 90</td>\n",
       "      <td>2</td>\n",
       "    </tr>\n",
       "    <tr>\n",
       "      <th>3</th>\n",
       "      <td>37.7</td>\n",
       "      <td>19</td>\n",
       "      <td>Audi 100</td>\n",
       "      <td>3</td>\n",
       "    </tr>\n",
       "    <tr>\n",
       "      <th>4</th>\n",
       "      <td>30.0</td>\n",
       "      <td>22</td>\n",
       "      <td>BMW 535i</td>\n",
       "      <td>2</td>\n",
       "    </tr>\n",
       "    <tr>\n",
       "      <th>...</th>\n",
       "      <td>...</td>\n",
       "      <td>...</td>\n",
       "      <td>...</td>\n",
       "      <td>...</td>\n",
       "    </tr>\n",
       "    <tr>\n",
       "      <th>88</th>\n",
       "      <td>19.7</td>\n",
       "      <td>17</td>\n",
       "      <td>Volkswagen Eurovan</td>\n",
       "      <td>2</td>\n",
       "    </tr>\n",
       "    <tr>\n",
       "      <th>89</th>\n",
       "      <td>20.0</td>\n",
       "      <td>21</td>\n",
       "      <td>Volkswagen Passat</td>\n",
       "      <td>2</td>\n",
       "    </tr>\n",
       "    <tr>\n",
       "      <th>90</th>\n",
       "      <td>23.3</td>\n",
       "      <td>18</td>\n",
       "      <td>Volkswagen Corrado</td>\n",
       "      <td>2</td>\n",
       "    </tr>\n",
       "    <tr>\n",
       "      <th>91</th>\n",
       "      <td>22.7</td>\n",
       "      <td>21</td>\n",
       "      <td>Volvo 240</td>\n",
       "      <td>2</td>\n",
       "    </tr>\n",
       "    <tr>\n",
       "      <th>92</th>\n",
       "      <td>26.7</td>\n",
       "      <td>20</td>\n",
       "      <td>Volvo 850</td>\n",
       "      <td>2</td>\n",
       "    </tr>\n",
       "  </tbody>\n",
       "</table>\n",
       "<p>93 rows × 4 columns</p>\n",
       "</div>"
      ],
      "text/plain": [
       "    Price  MPGcity                cars  clusters\n",
       "0    15.9       25       Acura Integra         0\n",
       "1    33.9       18        Acura Legend         3\n",
       "2    29.1       20             Audi 90         2\n",
       "3    37.7       19            Audi 100         3\n",
       "4    30.0       22            BMW 535i         2\n",
       "..    ...      ...                 ...       ...\n",
       "88   19.7       17  Volkswagen Eurovan         2\n",
       "89   20.0       21   Volkswagen Passat         2\n",
       "90   23.3       18  Volkswagen Corrado         2\n",
       "91   22.7       21           Volvo 240         2\n",
       "92   26.7       20           Volvo 850         2\n",
       "\n",
       "[93 rows x 4 columns]"
      ]
     },
     "execution_count": 73,
     "metadata": {},
     "output_type": "execute_result"
    }
   ],
   "source": [
    "w"
   ]
  },
  {
   "cell_type": "code",
   "execution_count": null,
   "id": "752dcf3e",
   "metadata": {},
   "outputs": [],
   "source": []
  },
  {
   "cell_type": "markdown",
   "id": "2e1d1b77",
   "metadata": {},
   "source": [
    "# Creating Recommendation system\n"
   ]
  },
  {
   "cell_type": "code",
   "execution_count": 74,
   "id": "8b07891c",
   "metadata": {},
   "outputs": [],
   "source": [
    "cn=w[w.cars==\"Audi 100\"].clusters.values[0]  "
   ]
  },
  {
   "cell_type": "markdown",
   "id": "a2b33e95",
   "metadata": {},
   "source": [
    "will give the number/label of cluster in which the given input belongs"
   ]
  },
  {
   "cell_type": "code",
   "execution_count": 75,
   "id": "d14aadd3",
   "metadata": {},
   "outputs": [
    {
     "data": {
      "text/plain": [
       "3"
      ]
     },
     "execution_count": 75,
     "metadata": {},
     "output_type": "execute_result"
    }
   ],
   "source": [
    "cn"
   ]
  },
  {
   "cell_type": "code",
   "execution_count": 76,
   "id": "65330f87",
   "metadata": {},
   "outputs": [
    {
     "data": {
      "text/html": [
       "<div>\n",
       "<style scoped>\n",
       "    .dataframe tbody tr th:only-of-type {\n",
       "        vertical-align: middle;\n",
       "    }\n",
       "\n",
       "    .dataframe tbody tr th {\n",
       "        vertical-align: top;\n",
       "    }\n",
       "\n",
       "    .dataframe thead th {\n",
       "        text-align: right;\n",
       "    }\n",
       "</style>\n",
       "<table border=\"1\" class=\"dataframe\">\n",
       "  <thead>\n",
       "    <tr style=\"text-align: right;\">\n",
       "      <th></th>\n",
       "      <th>Price</th>\n",
       "      <th>MPGcity</th>\n",
       "      <th>cars</th>\n",
       "      <th>clusters</th>\n",
       "    </tr>\n",
       "  </thead>\n",
       "  <tbody>\n",
       "    <tr>\n",
       "      <th>1</th>\n",
       "      <td>33.9</td>\n",
       "      <td>18</td>\n",
       "      <td>Acura Legend</td>\n",
       "      <td>3</td>\n",
       "    </tr>\n",
       "    <tr>\n",
       "      <th>3</th>\n",
       "      <td>37.7</td>\n",
       "      <td>19</td>\n",
       "      <td>Audi 100</td>\n",
       "      <td>3</td>\n",
       "    </tr>\n",
       "    <tr>\n",
       "      <th>9</th>\n",
       "      <td>34.7</td>\n",
       "      <td>16</td>\n",
       "      <td>Cadillac DeVille</td>\n",
       "      <td>3</td>\n",
       "    </tr>\n",
       "    <tr>\n",
       "      <th>10</th>\n",
       "      <td>40.1</td>\n",
       "      <td>16</td>\n",
       "      <td>Cadillac Seville</td>\n",
       "      <td>3</td>\n",
       "    </tr>\n",
       "    <tr>\n",
       "      <th>18</th>\n",
       "      <td>38.0</td>\n",
       "      <td>17</td>\n",
       "      <td>Chevrolet Corvette</td>\n",
       "      <td>3</td>\n",
       "    </tr>\n",
       "    <tr>\n",
       "      <th>47</th>\n",
       "      <td>47.9</td>\n",
       "      <td>17</td>\n",
       "      <td>Infiniti Q45</td>\n",
       "      <td>3</td>\n",
       "    </tr>\n",
       "    <tr>\n",
       "      <th>49</th>\n",
       "      <td>35.2</td>\n",
       "      <td>18</td>\n",
       "      <td>Lexus SC300</td>\n",
       "      <td>3</td>\n",
       "    </tr>\n",
       "    <tr>\n",
       "      <th>50</th>\n",
       "      <td>34.3</td>\n",
       "      <td>17</td>\n",
       "      <td>Lincoln Continental</td>\n",
       "      <td>3</td>\n",
       "    </tr>\n",
       "    <tr>\n",
       "      <th>51</th>\n",
       "      <td>36.1</td>\n",
       "      <td>18</td>\n",
       "      <td>Lincoln Town_Car</td>\n",
       "      <td>3</td>\n",
       "    </tr>\n",
       "    <tr>\n",
       "      <th>56</th>\n",
       "      <td>32.5</td>\n",
       "      <td>17</td>\n",
       "      <td>Mazda RX-7</td>\n",
       "      <td>3</td>\n",
       "    </tr>\n",
       "    <tr>\n",
       "      <th>57</th>\n",
       "      <td>31.9</td>\n",
       "      <td>20</td>\n",
       "      <td>Mercedes-Benz 190E</td>\n",
       "      <td>3</td>\n",
       "    </tr>\n",
       "    <tr>\n",
       "      <th>58</th>\n",
       "      <td>61.9</td>\n",
       "      <td>19</td>\n",
       "      <td>Mercedes-Benz 300E</td>\n",
       "      <td>3</td>\n",
       "    </tr>\n",
       "  </tbody>\n",
       "</table>\n",
       "</div>"
      ],
      "text/plain": [
       "    Price  MPGcity                 cars  clusters\n",
       "1    33.9       18         Acura Legend         3\n",
       "3    37.7       19             Audi 100         3\n",
       "9    34.7       16     Cadillac DeVille         3\n",
       "10   40.1       16     Cadillac Seville         3\n",
       "18   38.0       17   Chevrolet Corvette         3\n",
       "47   47.9       17         Infiniti Q45         3\n",
       "49   35.2       18          Lexus SC300         3\n",
       "50   34.3       17  Lincoln Continental         3\n",
       "51   36.1       18     Lincoln Town_Car         3\n",
       "56   32.5       17           Mazda RX-7         3\n",
       "57   31.9       20   Mercedes-Benz 190E         3\n",
       "58   61.9       19   Mercedes-Benz 300E         3"
      ]
     },
     "execution_count": 76,
     "metadata": {},
     "output_type": "execute_result"
    }
   ],
   "source": [
    "w[w.clusters==cn]   #will give all the rows that particular cluster number/label"
   ]
  },
  {
   "cell_type": "code",
   "execution_count": 77,
   "id": "0afc726c",
   "metadata": {},
   "outputs": [],
   "source": [
    "similarcars=list(w[w.clusters==cn].cars)"
   ]
  },
  {
   "cell_type": "code",
   "execution_count": 78,
   "id": "210bb223",
   "metadata": {},
   "outputs": [
    {
     "data": {
      "text/plain": [
       "['Acura Legend',\n",
       " 'Audi 100',\n",
       " 'Cadillac DeVille',\n",
       " 'Cadillac Seville',\n",
       " 'Chevrolet Corvette',\n",
       " 'Infiniti Q45',\n",
       " 'Lexus SC300',\n",
       " 'Lincoln Continental',\n",
       " 'Lincoln Town_Car',\n",
       " 'Mazda RX-7',\n",
       " 'Mercedes-Benz 190E',\n",
       " 'Mercedes-Benz 300E']"
      ]
     },
     "execution_count": 78,
     "metadata": {},
     "output_type": "execute_result"
    }
   ],
   "source": [
    "similarcars"
   ]
  },
  {
   "cell_type": "code",
   "execution_count": null,
   "id": "bbcb6215",
   "metadata": {},
   "outputs": [],
   "source": []
  },
  {
   "cell_type": "markdown",
   "id": "9f308545",
   "metadata": {},
   "source": [
    "## Recommendation function"
   ]
  },
  {
   "cell_type": "code",
   "execution_count": 80,
   "id": "722042a3",
   "metadata": {
    "scrolled": true
   },
   "outputs": [
    {
     "name": "stdout",
     "output_type": "stream",
     "text": [
      "Enter name of the car you wish to buy and we will suggest you similar cars :BMW 535i\n",
      "---------------there are 35 suggestion for you--------------- \n",
      " ['Audi 90', 'BMW 535i', 'Buick LeSabre', 'Buick Roadmaster', 'Buick Riviera', 'Chevrolet Camaro', 'Chevrolet Lumina_APV', 'Chevrolet Astro', 'Chevrolet Caprice', 'Chrylser Concorde', 'Chrysler Imperial', 'Dodge Caravan', 'Dodge Stealth', 'Eagle Vision', 'Ford Aerostar', 'Ford Taurus', 'Ford Crown_Victoria', 'Lexus ES300', 'Mazda MPV', 'Mercury Cougar', 'Mitsubishi Diamante', 'Nissan Quest', 'Nissan Maxima', 'Oldsmobile Silhouette', 'Oldsmobile Eighty-Eight', 'Pontiac Firebird', 'Pontiac Grand_Prix', 'Pontiac Bonneville', 'Saab 900', 'Toyota Previa', 'Volkswagen Eurovan', 'Volkswagen Passat', 'Volkswagen Corrado', 'Volvo 240', 'Volvo 850']\n",
      "-----cluster number is----> 2\n"
     ]
    }
   ],
   "source": [
    "a=input(\"Enter name of the car you wish to buy and we will suggest you similar cars :\")\n",
    "cnum=w[w.cars==a].clusters.values[0]\n",
    "suggest=list(w[w.clusters==cnum].cars)\n",
    "print(\"---------------there are\",len(suggest),\"suggestion for you--------------- \\n\",suggest)\n",
    "print(\"-----cluster number is---->\",cnum)\n"
   ]
  },
  {
   "cell_type": "markdown",
   "id": "cc430289",
   "metadata": {},
   "source": [
    "### User input of car name was taken and list of similar cars were given as an output "
   ]
  },
  {
   "cell_type": "code",
   "execution_count": null,
   "id": "c83475b9",
   "metadata": {},
   "outputs": [],
   "source": []
  },
  {
   "cell_type": "markdown",
   "id": "530429c5",
   "metadata": {},
   "source": [
    "## Plotting clusters"
   ]
  },
  {
   "cell_type": "code",
   "execution_count": 81,
   "id": "acc03372",
   "metadata": {},
   "outputs": [
    {
     "data": {
      "text/plain": [
       "<matplotlib.collections.PathCollection at 0x188d5179150>"
      ]
     },
     "execution_count": 81,
     "metadata": {},
     "output_type": "execute_result"
    },
    {
     "data": {
      "image/png": "[encoded data removed]",
      "text/plain": [
       "<Figure size 640x480 with 1 Axes>"
      ]
     },
     "metadata": {},
     "output_type": "display_data"
    }
   ],
   "source": [
    "plt.scatter(x.Price,x.MPGcity,c=w.clusters)\n"
   ]
  },
  {
   "cell_type": "code",
   "execution_count": 82,
   "id": "871a271a",
   "metadata": {},
   "outputs": [],
   "source": [
    "w1=pd.DataFrame(model.cluster_centers_)"
   ]
  },
  {
   "cell_type": "code",
   "execution_count": 83,
   "id": "c52e389b",
   "metadata": {},
   "outputs": [
    {
     "data": {
      "text/html": [
       "<div>\n",
       "<style scoped>\n",
       "    .dataframe tbody tr th:only-of-type {\n",
       "        vertical-align: middle;\n",
       "    }\n",
       "\n",
       "    .dataframe tbody tr th {\n",
       "        vertical-align: top;\n",
       "    }\n",
       "\n",
       "    .dataframe thead th {\n",
       "        text-align: right;\n",
       "    }\n",
       "</style>\n",
       "<table border=\"1\" class=\"dataframe\">\n",
       "  <thead>\n",
       "    <tr style=\"text-align: right;\">\n",
       "      <th></th>\n",
       "      <th>0</th>\n",
       "      <th>1</th>\n",
       "    </tr>\n",
       "  </thead>\n",
       "  <tbody>\n",
       "    <tr>\n",
       "      <th>0</th>\n",
       "      <td>0.126300</td>\n",
       "      <td>0.268817</td>\n",
       "    </tr>\n",
       "    <tr>\n",
       "      <th>1</th>\n",
       "      <td>0.046216</td>\n",
       "      <td>0.552419</td>\n",
       "    </tr>\n",
       "    <tr>\n",
       "      <th>2</th>\n",
       "      <td>0.264220</td>\n",
       "      <td>0.118894</td>\n",
       "    </tr>\n",
       "    <tr>\n",
       "      <th>3</th>\n",
       "      <td>0.574006</td>\n",
       "      <td>0.086022</td>\n",
       "    </tr>\n",
       "  </tbody>\n",
       "</table>\n",
       "</div>"
      ],
      "text/plain": [
       "          0         1\n",
       "0  0.126300  0.268817\n",
       "1  0.046216  0.552419\n",
       "2  0.264220  0.118894\n",
       "3  0.574006  0.086022"
      ]
     },
     "execution_count": 83,
     "metadata": {},
     "output_type": "execute_result"
    }
   ],
   "source": [
    "w1"
   ]
  },
  {
   "cell_type": "code",
   "execution_count": null,
   "id": "125b5ea4",
   "metadata": {},
   "outputs": [],
   "source": []
  },
  {
   "cell_type": "markdown",
   "id": "e0fef3b9",
   "metadata": {},
   "source": [
    "# Conclusion"
   ]
  },
  {
   "cell_type": "markdown",
   "id": "813a6689",
   "metadata": {},
   "source": [
    "## A recommendation system which gives the list of similar cars to the customers on the basis of car they are looking for"
   ]
  },
  {
   "cell_type": "code",
   "execution_count": null,
   "id": "949f96a1",
   "metadata": {},
   "outputs": [],
   "source": []
  }
 ],
 "metadata": {
  "kernelspec": {
   "display_name": "Python 3 (ipykernel)",
   "language": "python",
   "name": "python3"
  },
  "language_info": {
   "codemirror_mode": {
    "name": "ipython",
    "version": 3
   },
   "file_extension": ".py",
   "mimetype": "text/x-python",
   "name": "python",
   "nbconvert_exporter": "python",
   "pygments_lexer": "ipython3",
   "version": "3.10.9"
  }
 },
 "nbformat": 4,
 "nbformat_minor": 5
}
